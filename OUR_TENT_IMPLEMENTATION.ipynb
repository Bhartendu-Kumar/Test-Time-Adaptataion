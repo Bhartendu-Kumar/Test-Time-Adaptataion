{
 "cells": [
  {
   "cell_type": "code",
   "execution_count": 1,
   "metadata": {},
   "outputs": [],
   "source": [
    "#in this script we will write code for adapting the given pretrained model to test dataset\n",
    "# we will follow the ideas in paper: Tent: Fully-Test Time Adaptation by Entropy Minimization by Dequan Wang*, Evan Shelhamer*, Shaoteng Liu, Bruno Olshausen, and Trevor Darrell (ICLR 2021, spotlight).\n",
    "#the github repo is: https://github.com/DequanWang/tent"
   ]
  },
  {
   "cell_type": "markdown",
   "metadata": {},
   "source": [
    "# loss function : variance_new + C * ((mean_old - mean_new) ** 2)"
   ]
  },
  {
   "cell_type": "code",
   "execution_count": 2,
   "metadata": {},
   "outputs": [],
   "source": [
    "#we will load the pretrained optical  flow model, then we will take a couple of frames in test-dataset \n",
    "#then we will augument the frames to get 1000 augmented frames\n",
    "# then we will pass the augmented frames and original frames to the pretrained model\n",
    "# then we will calculate the entropy of the flow field : \n",
    "#the entropy loss function that we define is: variance across all the augmented and original frame optical flow fields + C * change in mean flow field across all augmented and original frames over iterations\n",
    "\n",
    "# loss function : variance + c * ((mean_old - mean_new) ** 2)\n",
    "#we will have only the batch normaization layers as trainable layers \n",
    "#and the rest of the layers will be frozen\n",
    "#we will use the loss to train the trainable layers and then we will save the model\n"
   ]
  },
  {
   "cell_type": "code",
   "execution_count": 3,
   "metadata": {},
   "outputs": [],
   "source": [
    "#import all libraries fior pytorch data loading\n",
    "import torch\n",
    "import torch.nn as nn\n",
    "import torch.nn.functional as F\n",
    "import torch.optim as optim\n",
    "import torchvision\n",
    "import torchvision.transforms as transforms\n",
    "import torchvision.datasets as datasets\n",
    "#import ImageFolder from torchvision\n",
    "from torchvision.datasets import ImageFolder\n",
    "from torch.utils.data import Dataset, DataLoader\n",
    "\n",
    "import torchvision.models as models\n",
    "import numpy as np\n",
    "import matplotlib.pyplot as plt\n",
    "import os\n",
    "import cv2\n",
    "import random\n",
    "\n",
    "\n",
    "import os\n",
    "import torch\n",
    "import pandas as pd\n",
    "from skimage import io, transform\n",
    "import numpy as np\n",
    "import matplotlib.pyplot as plt\n",
    "from torch.utils.data import Dataset, DataLoader\n",
    "from torchvision import transforms, utils\n",
    "\n"
   ]
  },
  {
   "cell_type": "code",
   "execution_count": 4,
   "metadata": {},
   "outputs": [
    {
     "data": {
      "text/plain": [
       "<torch.autograd.anomaly_mode.set_detect_anomaly at 0x7f293c4d21f0>"
      ]
     },
     "execution_count": 4,
     "metadata": {},
     "output_type": "execute_result"
    }
   ],
   "source": [
    "#enable anomaly detection\n",
    "torch.autograd.set_detect_anomaly(True)"
   ]
  },
  {
   "cell_type": "code",
   "execution_count": 5,
   "metadata": {},
   "outputs": [],
   "source": [
    "import importlib"
   ]
  },
  {
   "cell_type": "code",
   "execution_count": 6,
   "metadata": {},
   "outputs": [],
   "source": [
    "#import model name and pretrained model name from script parameters_new.py\n",
    "import parameters_new\n",
    "#reload\n",
    "\n",
    "importlib.reload(parameters_new)\n",
    "from parameters_new import MODEL_NAME, PRE_TRAINED_MODEL, CURRENT_MODEL"
   ]
  },
  {
   "cell_type": "code",
   "execution_count": 7,
   "metadata": {},
   "outputs": [
    {
     "name": "stdout",
     "output_type": "stream",
     "text": [
      "Did not load moviepy\n"
     ]
    }
   ],
   "source": [
    "#we will use pretrained optical flow model from the script: pre_trained_model_wrappers.py\n",
    "#we import the class: Args\n",
    "import pre_trained_model_wrapper_new\n",
    "#reload\n",
    "\n",
    "importlib.reload(pre_trained_model_wrapper_new)\n",
    "# from pre_trained_model_wrapper2 import Args      #class storing arguments\n",
    "#we import functions: build_model ,display_results , return_both_flows , compare_optical_flow \n",
    "from pre_trained_model_wrapper_new import build_model, display_results, return_both_flows, compare_optical_flow, get_pretrained_model , get_optical_flow\n",
    "\n",
    "#class Args: is used to store arguments\n",
    "\n",
    "# build_model: is used to build the model  'PWCNet' on 'chairs_things_ft_sintel'\n",
    "# compare_optical_flow: is used to compare the optical flow of two images\n",
    "#get_pretrained_model: is used to get the pretrained model given model and dataset"
   ]
  },
  {
   "cell_type": "code",
   "execution_count": 8,
   "metadata": {},
   "outputs": [],
   "source": [
    "#import helper functions from the script in directory: utils_pretrained -> pretrained_model_helper.py\n",
    "#import the function: pad_to_same_shape , read_image , read_frames , flow_visualization, plot_images, get_metrics\n",
    "from utils_pretrained.pretrained_model_helpers import pad_to_same_shape , read_image , read_frames , flow_visualization, plot_images, get_metrics"
   ]
  },
  {
   "cell_type": "code",
   "execution_count": 9,
   "metadata": {},
   "outputs": [],
   "source": [
    "import importlib\n",
    "import torch\n",
    "import torch.nn as nn\n",
    "import torch.jit\n",
    "#import torchsummary\n",
    "from torchsummary import summary"
   ]
  },
  {
   "cell_type": "code",
   "execution_count": 10,
   "metadata": {},
   "outputs": [],
   "source": [
    "import os\n",
    "import math\n",
    "import argparse\n",
    "import imageio\n",
    "from matplotlib import pyplot as plt\n",
    "\n",
    "import cv2\n",
    "from model_selection import select_model\n",
    "\n",
    "import numpy as np\n",
    "\n",
    "from copy import deepcopy\n"
   ]
  },
  {
   "cell_type": "code",
   "execution_count": 11,
   "metadata": {},
   "outputs": [],
   "source": [
    "#import tabulate\n",
    "from tabulate import tabulate"
   ]
  },
  {
   "cell_type": "code",
   "execution_count": 12,
   "metadata": {},
   "outputs": [],
   "source": [
    "TENT_EPOCHS = 50\n",
    "C = 1"
   ]
  },
  {
   "cell_type": "code",
   "execution_count": 13,
   "metadata": {},
   "outputs": [],
   "source": [
    "#import model name and pretrained model name from script parameters.py\n",
    "import parameters\n",
    "#reload\n",
    "\n",
    "importlib.reload(parameters)\n",
    "from parameters import MODEL_NAME, PRE_TRAINED_MODEL, CURRENT_MODEL"
   ]
  },
  {
   "cell_type": "code",
   "execution_count": 14,
   "metadata": {},
   "outputs": [],
   "source": [
    "# MODEL_NAME = 'PWCNet'   #'PDCNet_plus'\n",
    "\n",
    "# PRE_TRAINED_MODEL = 'chairs_things_ft_sintel'\n",
    "\n",
    "# ## parameters for PDCNet_plus on megadepth\n",
    "# MODEL_NAME = 'PDCNet_plus'\n",
    "# PRE_TRAINED_MODEL = 'megadepth'\n",
    "\n",
    "# ## parameters for PWCNet on chairs_things_ft_sintel\n",
    "# MODEL_NAME = 'PWCNet'\n",
    "# PRE_TRAINED_MODEL = 'chairs_things_ft_sintel'\n",
    "\n",
    "# #create aglobal variable current_model by concatenating model name and pretrained model with '_' in between\n",
    "# CURRENT_MODEL = MODEL_NAME + '_' + PRE_TRAINED_MODEL\n",
    "OPTIM_ITER = 3\n",
    "LOCAL_OPTIM_ITER = 16\n",
    "FLIPPING_CONDITION = False\n",
    "\n",
    "## parameters for PWCNet_GOCor on chairs_things_ft_sintel\n",
    "# MODEL_NAME = 'PWCNet_GOCor'\n",
    "# PRE_TRAINED_MODEL = 'chairs_things_ft_sintel'"
   ]
  },
  {
   "cell_type": "code",
   "execution_count": 15,
   "metadata": {},
   "outputs": [],
   "source": [
    "#paths to pair of frames\n",
    "# PATH_TO_IMAGE_1 = 'frames/bt.000.png'\n",
    "# PATH_TO_IMAGE_2 = 'frames/bt.001.png'\n",
    "# #3\n",
    "# PATH_TO_IMAGE_3 = 'frames/bt.002.png'\n",
    "\n",
    "#same paths just file extension changed to pgm\n",
    "PATH_TO_IMAGE_1 = 'frames/bt.000.pgm'\n",
    "PATH_TO_IMAGE_2 = 'frames/bt.001.pgm'\n",
    "#3\n",
    "PATH_TO_IMAGE_3 = 'frames/bt.002.pgm'"
   ]
  },
  {
   "cell_type": "code",
   "execution_count": 16,
   "metadata": {},
   "outputs": [],
   "source": [
    "#we have a folder utility_images where some reference images are stored like middlebury color map guide\n",
    "PATH_TO_COLOR_MAP_GUIDE = 'icons/index.jpeg'"
   ]
  },
  {
   "cell_type": "code",
   "execution_count": 17,
   "metadata": {},
   "outputs": [
    {
     "data": {
      "text/plain": [
       "device(type='cuda')"
      ]
     },
     "execution_count": 17,
     "metadata": {},
     "output_type": "execute_result"
    }
   ],
   "source": [
    "torch.cuda.empty_cache()\n",
    "# torch.set_grad_enabled(False) # make sure to not compute gradients for computational performance\n",
    "torch.backends.cudnn.enabled = True\n",
    "\n",
    "device = torch.device(\"cuda\" if torch.cuda.is_available() else \"cpu\")\n",
    "device"
   ]
  },
  {
   "cell_type": "code",
   "execution_count": 18,
   "metadata": {},
   "outputs": [
    {
     "data": {
      "image/png": "[encoded data removed]",
      "text/plain": [
       "<Figure size 200x200 with 1 Axes>"
      ]
     },
     "metadata": {},
     "output_type": "display_data"
    }
   ],
   "source": [
    "\n",
    "colour_map_guide = read_image(PATH_TO_COLOR_MAP_GUIDE).astype(np.uint8)\n",
    "fig, ax = plt.subplots(1, 1, figsize=(2, 2))\n",
    "ax.imshow(colour_map_guide)\n",
    "ax.set_title('Colour map guide')\n",
    "plt.show()\n",
    "\n"
   ]
  },
  {
   "cell_type": "code",
   "execution_count": null,
   "metadata": {},
   "outputs": [],
   "source": []
  },
  {
   "cell_type": "code",
   "execution_count": 19,
   "metadata": {},
   "outputs": [],
   "source": [
    "#call get_pretrained_model function to get the pretrained model\n",
    "# model = get_pretrained_model(model_name=MODEL_NAME, pre_trained_model_type=PRE_TRAINED_MODEL )\n",
    "#print summary of the model\n",
    "# summary(model, input_size=[(3, 512, 512), (3, 512, 512)])"
   ]
  },
  {
   "cell_type": "code",
   "execution_count": 20,
   "metadata": {},
   "outputs": [],
   "source": [
    "def configure_model(model):\n",
    "    \"\"\"Configure model for use with tent.\"\"\"\n",
    "    # train mode, because tent optimizes the model to minimize entropy\n",
    "    model.train()\n",
    "    # disable grad, to (re-)enable only what tent updates\n",
    "    model.requires_grad_(False)\n",
    "    # configure norm for tent updates: enable grad + force batch statisics\n",
    "    for m in model.modules():\n",
    "        if isinstance(m, nn.BatchNorm2d):\n",
    "            m.requires_grad_(True)\n",
    "            # force use of batch stats in train and eval modes\n",
    "            m.track_running_stats = False\n",
    "            m.running_mean = None\n",
    "            m.running_var = None\n",
    "    return model"
   ]
  },
  {
   "cell_type": "code",
   "execution_count": 21,
   "metadata": {},
   "outputs": [],
   "source": [
    "def collect_params(model):\n",
    "    \"\"\"Collect the affine scale + shift parameters from batch norms.\n",
    "\n",
    "    Walk the model's modules and collect all batch normalization parameters.\n",
    "    Return the parameters and their names.\n",
    "\n",
    "    Note: other choices of parameterization are possible!\n",
    "    \"\"\"\n",
    "    params = []\n",
    "    names = []\n",
    "    for nm, m in model.named_modules():\n",
    "        if isinstance(m, nn.BatchNorm2d):\n",
    "            for np, p in m.named_parameters():\n",
    "                if np in ['weight', 'bias']:  # weight is scale, bias is shift\n",
    "                    params.append(p)\n",
    "                    names.append(f\"{nm}.{np}\")\n",
    "    return params, names"
   ]
  },
  {
   "cell_type": "code",
   "execution_count": 22,
   "metadata": {},
   "outputs": [],
   "source": [
    "#define an optimizer ADAM with learning rate 0.001\n",
    "#define  the optimizer with learning rate\n",
    "# optimizer = torch.optim.Adam([{'params': collect_params(model)[0], 'lr': 0.001}])\n",
    "\n",
    "#write a function to return optimizer\n",
    "def get_optimizer(model, lr=0.001):\n",
    "    \"\"\"Return optimizer for tent updates.\"\"\"\n",
    "    # collect parameters and names\n",
    "    params, names = collect_params(model)\n",
    "    # define optimizer\n",
    "    optimizer = torch.optim.Adam([{'params': params, 'lr': 0.001}])\n",
    "    return optimizer\n",
    "\n",
    "\n"
   ]
  },
  {
   "cell_type": "code",
   "execution_count": 23,
   "metadata": {},
   "outputs": [
    {
     "name": "stdout",
     "output_type": "stream",
     "text": [
      "Model: PDCNet_plus\n",
      "Pre-trained-model: megadepth\n",
      "GOCor: Local iter 16\n",
      "GOCor: Global iter 3\n"
     ]
    },
    {
     "name": "stderr",
     "output_type": "stream",
     "text": [
      "/home/lisa/anaconda3/envs/pytorch/lib/python3.8/site-packages/torchvision/models/_utils.py:208: UserWarning: The parameter 'pretrained' is deprecated since 0.13 and will be removed in 0.15, please use 'weights' instead.\n",
      "  warnings.warn(\n",
      "/home/lisa/anaconda3/envs/pytorch/lib/python3.8/site-packages/torchvision/models/_utils.py:223: UserWarning: Arguments other than a weight enum or `None` for 'weights' are deprecated since 0.13 and will be removed in 0.15. The current behavior is equivalent to passing `weights=VGG16_Weights.IMAGENET1K_V1`. You can also use `weights=VGG16_Weights.DEFAULT` to get the most up-to-date weights.\n",
      "  warnings.warn(msg)\n"
     ]
    }
   ],
   "source": [
    "#define a variable for storing model as global variable\n",
    "model = get_pretrained_model(model_name=MODEL_NAME, pre_trained_model_type=PRE_TRAINED_MODEL )"
   ]
  },
  {
   "cell_type": "code",
   "execution_count": null,
   "metadata": {},
   "outputs": [],
   "source": []
  },
  {
   "cell_type": "code",
   "execution_count": 24,
   "metadata": {},
   "outputs": [],
   "source": [
    "#we will write a function that will take two images and return the optical flow\n",
    "#THIS IS TEST TIME ADAPTATOION in which we take two images and return the optical flow and we will adapt the model to the new images\n",
    "#by minimizing theloss function we defined: variation loss + C * (change in mean)\n",
    "\n",
    "\n",
    "#this function will accept as parameters: path to augumented examples of frame1, path to augumented examples of frame2\n",
    "\n",
    "\n",
    "\n",
    "\n",
    "\n",
    "\n",
    "#after the function call , we will again make all the parameters of the model non trainable --  to do\n"
   ]
  },
  {
   "cell_type": "code",
   "execution_count": null,
   "metadata": {},
   "outputs": [],
   "source": [
    "\n"
   ]
  },
  {
   "cell_type": "code",
   "execution_count": 25,
   "metadata": {},
   "outputs": [],
   "source": [
    "#we will create the dataset and dataloader for the augumented examples of frame1 and frame2\n",
    "dataset_name = 'corridor'\n",
    "#the folder inside the dataset folder is named: CURRENT_MODEL\n",
    "#and inside that we have folder named like: 0_1 , 1_2 , 2_3 , 3_4 , 4_5 , 5_6 , 6_7 , 7_8 , 8_9 , i.e. if index is given by i, then folder name is i_(i+1)\n",
    "#thus the argument will be index\n",
    "index = 0\n",
    "#now we construct the path string to the folder\n",
    "path_to_folder = 'data/' + dataset_name + '/' + CURRENT_MODEL + '/' + str(index) + '_' + str(index+1)\n",
    "#now this folder has 2 folders : Frame0 and Frame1\n",
    "# #we will load both the folders in dataset seperately and while training loop we will zip them together: to get x1 and x2\n",
    "# #create dataset for Frame0\n",
    "# dataset_frame0 = ImageFolder(path_to_folder + '/Frame0')\n",
    "# #create dataset for Frame1\n",
    "# dataset_frame1 = ImageFolder(path_to_folder + '/Frame1')\n",
    "\n",
    "\n"
   ]
  },
  {
   "cell_type": "code",
   "execution_count": 26,
   "metadata": {},
   "outputs": [],
   "source": [
    "\n",
    "#define transforms for both the datasets\n",
    "#for transforms, we will use the functions from the file: pre_trained_model_wrapper_new.py\n",
    "#first on th image path : we apply read_image function\n",
    "#second on the loaded image: we do .astype(np.uint8)\n",
    "#then we will permute the image to get it in the right format: .permute(2, 0, 1)\n",
    "#write the transforms\n",
    "# transform = transforms.Compose([\n",
    "#     read_image,\n",
    "#     np.uint8,\n",
    "#     transforms.ToTensor(),\n",
    "#     transforms.Lambda(lambda x: x.permute(2, 0, 1))\n",
    "# ])\n",
    "\n",
    "#we load the image in transform as per standard pytorch format and methods, and then we permute it to get it in the right format\n",
    "#we will use the same transform for both the datasets\n",
    "transform = transforms.Compose([\n",
    "    #we will load the image as numpy array uint8\n",
    "    #not use read_image function\n",
    "    # read_image,\n",
    "    #convert to numpy array\n",
    "    \n",
    "    np.uint8,\n",
    "    #load image as numpy array\n",
    "\n",
    "    transforms.ToPILImage(),\n",
    "    transforms.ToTensor(),\n",
    "    # transforms.Lambda(lambda x: x.permute(2, 0, 1))\n",
    "    #permute such that the channels are in last dimension, now it is in first dimension\n",
    "    # transforms.Lambda(lambda x: x.permute(2, 0, 1))\n",
    "    #curently the image is in the format: (3, 512, 512), we want it in the format: (512, 512, 3)\n",
    "    # transforms.Lambda(lambda x: x.permute(1, 2, 0))\n",
    "])\n",
    "    "
   ]
  },
  {
   "cell_type": "code",
   "execution_count": 27,
   "metadata": {},
   "outputs": [],
   "source": [
    "#now create the dataset for both the datasets\n",
    "dataset_frame0 = ImageFolder(path_to_folder + '/Frame0', transform=transform)\n",
    "dataset_frame1 = ImageFolder(path_to_folder + '/Frame1', transform=transform)\n",
    "\n",
    "#now we will create the dataloader for both the datasets\n",
    "#the batch size will be equal to the dataset size\n",
    "#we will use the same batch size for both the datasets\n",
    "batch_size = len(dataset_frame0)\n",
    "#we will use the same batch size for both the datasets\n",
    "dataloader_frame0 = DataLoader(dataset_frame0, batch_size=batch_size, shuffle=False)\n",
    "dataloader_frame1 = DataLoader(dataset_frame1, batch_size=batch_size, shuffle=False)\n"
   ]
  },
  {
   "cell_type": "code",
   "execution_count": 32,
   "metadata": {},
   "outputs": [],
   "source": [
    "@torch.enable_grad() \n",
    "def variation_loss(input):\n",
    "    \"\"\"Return variation loss.\"\"\"\n",
    "    #calculate the mean of the input\n",
    "    mean = input.mean()\n",
    "    #replicate the mean to the same shape as input\n",
    "    mean = mean.expand_as(input)\n",
    "    # compute mean of input\n",
    "    # mean = input.mean()\n",
    "    # compute mean square error loss\n",
    "    #print input shapes\n",
    "    #print loss function\n",
    "    print(\"loss function\")\n",
    "    print('input shape: ', input.shape)\n",
    "    print('mean shape: ', mean.shape)\n",
    "    loss = F.mse_loss(input, mean)\n",
    "    return loss"
   ]
  },
  {
   "cell_type": "code",
   "execution_count": 33,
   "metadata": {},
   "outputs": [
    {
     "name": "stdout",
     "output_type": "stream",
     "text": [
      "mean_of_optical_flow size:  torch.Size([2, 512, 512])\n",
      "loss function\n",
      "input shape:  torch.Size([4, 2, 512, 512])\n",
      "mean shape:  torch.Size([4, 2, 512, 512])\n",
      "variance loss:  tensor(868.4962, device='cuda:0', grad_fn=<MseLossBackward0>)\n"
     ]
    },
    {
     "ename": "RuntimeError",
     "evalue": "grad can be implicitly created only for scalar outputs",
     "output_type": "error",
     "traceback": [
      "\u001b[0;31m---------------------------------------------------------------------------\u001b[0m",
      "\u001b[0;31mRuntimeError\u001b[0m                              Traceback (most recent call last)",
      "\u001b[1;32m/home/lisa/bhartendu/DVPA/A2/DenseMatching-main/test_time_adaptation.ipynb Cell 33\u001b[0m in \u001b[0;36m<cell line: 25>\u001b[0;34m()\u001b[0m\n\u001b[1;32m     <a href='vscode-notebook-cell://ssh-remote%2B10.64.35.99/home/lisa/bhartendu/DVPA/A2/DenseMatching-main/test_time_adaptation.ipynb#X56sdnNjb2RlLXJlbW90ZQ%3D%3D?line=62'>63</a>\u001b[0m loss \u001b[39m=\u001b[39m variance_loss \u001b[39m+\u001b[39m C \u001b[39m*\u001b[39m change_in_mean\n\u001b[1;32m     <a href='vscode-notebook-cell://ssh-remote%2B10.64.35.99/home/lisa/bhartendu/DVPA/A2/DenseMatching-main/test_time_adaptation.ipynb#X56sdnNjb2RlLXJlbW90ZQ%3D%3D?line=63'>64</a>\u001b[0m \u001b[39m# print('loss: ', loss)\u001b[39;00m\n\u001b[1;32m     <a href='vscode-notebook-cell://ssh-remote%2B10.64.35.99/home/lisa/bhartendu/DVPA/A2/DenseMatching-main/test_time_adaptation.ipynb#X56sdnNjb2RlLXJlbW90ZQ%3D%3D?line=64'>65</a>\u001b[0m \u001b[39m#now we will do the backward pass\u001b[39;00m\n\u001b[0;32m---> <a href='vscode-notebook-cell://ssh-remote%2B10.64.35.99/home/lisa/bhartendu/DVPA/A2/DenseMatching-main/test_time_adaptation.ipynb#X56sdnNjb2RlLXJlbW90ZQ%3D%3D?line=65'>66</a>\u001b[0m loss\u001b[39m.\u001b[39;49mbackward(retain_graph\u001b[39m=\u001b[39;49m\u001b[39mTrue\u001b[39;49;00m)\n\u001b[1;32m     <a href='vscode-notebook-cell://ssh-remote%2B10.64.35.99/home/lisa/bhartendu/DVPA/A2/DenseMatching-main/test_time_adaptation.ipynb#X56sdnNjb2RlLXJlbW90ZQ%3D%3D?line=66'>67</a>\u001b[0m \u001b[39m#now we will do the optimizer step\u001b[39;00m\n\u001b[1;32m     <a href='vscode-notebook-cell://ssh-remote%2B10.64.35.99/home/lisa/bhartendu/DVPA/A2/DenseMatching-main/test_time_adaptation.ipynb#X56sdnNjb2RlLXJlbW90ZQ%3D%3D?line=67'>68</a>\u001b[0m optimizer\u001b[39m.\u001b[39mstep()\n",
      "File \u001b[0;32m~/anaconda3/envs/pytorch/lib/python3.8/site-packages/torch/_tensor.py:396\u001b[0m, in \u001b[0;36mTensor.backward\u001b[0;34m(self, gradient, retain_graph, create_graph, inputs)\u001b[0m\n\u001b[1;32m    387\u001b[0m \u001b[39mif\u001b[39;00m has_torch_function_unary(\u001b[39mself\u001b[39m):\n\u001b[1;32m    388\u001b[0m     \u001b[39mreturn\u001b[39;00m handle_torch_function(\n\u001b[1;32m    389\u001b[0m         Tensor\u001b[39m.\u001b[39mbackward,\n\u001b[1;32m    390\u001b[0m         (\u001b[39mself\u001b[39m,),\n\u001b[0;32m   (...)\u001b[0m\n\u001b[1;32m    394\u001b[0m         create_graph\u001b[39m=\u001b[39mcreate_graph,\n\u001b[1;32m    395\u001b[0m         inputs\u001b[39m=\u001b[39minputs)\n\u001b[0;32m--> 396\u001b[0m torch\u001b[39m.\u001b[39;49mautograd\u001b[39m.\u001b[39;49mbackward(\u001b[39mself\u001b[39;49m, gradient, retain_graph, create_graph, inputs\u001b[39m=\u001b[39;49minputs)\n",
      "File \u001b[0;32m~/anaconda3/envs/pytorch/lib/python3.8/site-packages/torch/autograd/__init__.py:166\u001b[0m, in \u001b[0;36mbackward\u001b[0;34m(tensors, grad_tensors, retain_graph, create_graph, grad_variables, inputs)\u001b[0m\n\u001b[1;32m    162\u001b[0m inputs \u001b[39m=\u001b[39m (inputs,) \u001b[39mif\u001b[39;00m \u001b[39misinstance\u001b[39m(inputs, torch\u001b[39m.\u001b[39mTensor) \u001b[39melse\u001b[39;00m \\\n\u001b[1;32m    163\u001b[0m     \u001b[39mtuple\u001b[39m(inputs) \u001b[39mif\u001b[39;00m inputs \u001b[39mis\u001b[39;00m \u001b[39mnot\u001b[39;00m \u001b[39mNone\u001b[39;00m \u001b[39melse\u001b[39;00m \u001b[39mtuple\u001b[39m()\n\u001b[1;32m    165\u001b[0m grad_tensors_ \u001b[39m=\u001b[39m _tensor_or_tensors_to_tuple(grad_tensors, \u001b[39mlen\u001b[39m(tensors))\n\u001b[0;32m--> 166\u001b[0m grad_tensors_ \u001b[39m=\u001b[39m _make_grads(tensors, grad_tensors_, is_grads_batched\u001b[39m=\u001b[39;49m\u001b[39mFalse\u001b[39;49;00m)\n\u001b[1;32m    167\u001b[0m \u001b[39mif\u001b[39;00m retain_graph \u001b[39mis\u001b[39;00m \u001b[39mNone\u001b[39;00m:\n\u001b[1;32m    168\u001b[0m     retain_graph \u001b[39m=\u001b[39m create_graph\n",
      "File \u001b[0;32m~/anaconda3/envs/pytorch/lib/python3.8/site-packages/torch/autograd/__init__.py:67\u001b[0m, in \u001b[0;36m_make_grads\u001b[0;34m(outputs, grads, is_grads_batched)\u001b[0m\n\u001b[1;32m     65\u001b[0m \u001b[39mif\u001b[39;00m out\u001b[39m.\u001b[39mrequires_grad:\n\u001b[1;32m     66\u001b[0m     \u001b[39mif\u001b[39;00m out\u001b[39m.\u001b[39mnumel() \u001b[39m!=\u001b[39m \u001b[39m1\u001b[39m:\n\u001b[0;32m---> 67\u001b[0m         \u001b[39mraise\u001b[39;00m \u001b[39mRuntimeError\u001b[39;00m(\u001b[39m\"\u001b[39m\u001b[39mgrad can be implicitly created only for scalar outputs\u001b[39m\u001b[39m\"\u001b[39m)\n\u001b[1;32m     68\u001b[0m     new_grads\u001b[39m.\u001b[39mappend(torch\u001b[39m.\u001b[39mones_like(out, memory_format\u001b[39m=\u001b[39mtorch\u001b[39m.\u001b[39mpreserve_format))\n\u001b[1;32m     69\u001b[0m \u001b[39melse\u001b[39;00m:\n",
      "\u001b[0;31mRuntimeError\u001b[0m: grad can be implicitly created only for scalar outputs"
     ]
    }
   ],
   "source": [
    "\n",
    "#step 1 is to configure model for learnable parameters and non learnable parameters\n",
    "#use the function configure_model\n",
    "model = configure_model(model)\n",
    "#load the model to the device\n",
    "# model = model.to(device)\n",
    "\n",
    "\n",
    "#define the optimizer\n",
    "optimizer = get_optimizer(model)\n",
    "\n",
    "#we will write the loss function,here\n",
    "# loss function will be: variation loss + C * (change in mean)\n",
    "#let us write the first part i.e. variation loss\n",
    "#wee have mean as an argument to the function, then we just apply mean square error loss and that would be the variation loss\n",
    "#we will write the function for variation loss\n",
    "\n",
    "@torch.enable_grad() \n",
    "def variation_loss(input, mean):\n",
    "    \"\"\"Return variation loss.\"\"\"\n",
    "    # compute mean of input\n",
    "    # mean = input.mean()\n",
    "    # compute mean square error loss\n",
    "    #print input shapes\n",
    "    #print loss function\n",
    "    print(\"loss function\")\n",
    "    print('input shape: ', input.shape)\n",
    "    print('mean shape: ', mean.shape)\n",
    "    loss = F.mse_loss(input, mean)\n",
    "    return loss\n",
    "\n",
    "#now we \n",
    "\n",
    "#we will write the training loop\n",
    "#we will loop over the dataloader , both the dataloaders are of same size and we will zip them together to get x1 and x2\n",
    "#itearte for epochs\n",
    "iteration=0\n",
    "for epoch in range(TENT_EPOCHS):\n",
    "    #\n",
    "    #iterate over the dataloader\n",
    "    for x1, x2 in zip(dataloader_frame0, dataloader_frame1):\n",
    "        #we will get the x1 and x2 from the dataloader\n",
    "        #we will load the images to the device\n",
    "        # x1 = x1[0].to(device)\n",
    "        # x2 = x2[0].to(device)\n",
    "        x1 = x1[0]\n",
    "        x2 = x2[0]\n",
    "        #print the shapes\n",
    "        # print('x1 shape: ', x1.shape)\n",
    "        # print('x2 shape: ', x2.shape)\n",
    "        #send model to the device\n",
    "        # model = model.to(device)\n",
    "        #now we run the model on x1 and x2\n",
    "        optical_flow, confidence = model.estimate_flow_and_confidence_map(x1, x2)\n",
    "        #calculate the meanof optical flow\n",
    "        #if epoch is 0, then we will calculate the mean of optical flow\n",
    "        if iteration == 0:\n",
    "            #calculate the mean of optical flow\n",
    "            mean_of_optical_flow = torch.mean(optical_flow)\n",
    "            #print variance size\n",
    "            print('mean_of_optical_flow size: ', mean_of_optical_flow.shape)\n",
    "            iteration += 1\n",
    "            # print('mean of optical flow: ', mean_of_optical_flow)\n",
    "        # mean_optical_flow = torch.mean(optical_flow)\n",
    "            #get variance part of the loss\n",
    "        variance_loss = variation_loss(optical_flow, mean_of_optical_flow)\n",
    "        print('variance loss: ', variance_loss)\n",
    "        #now we will calculate the change in mean\n",
    "        #calculate current mean\n",
    "        current_mean = torch.mean(optical_flow)\n",
    "        #calculate the change in mean\n",
    "        change_in_mean = torch.abs(current_mean - mean_of_optical_flow)\n",
    "        # print('change in mean: ', change_in_mean)\n",
    "        #now we will calculate the total loss\n",
    "        #use C\n",
    "        loss = variance_loss + C * change_in_mean\n",
    "        # print('loss: ', loss)\n",
    "        #now we will do the backward pass\n",
    "        loss.backward(retain_graph=True)\n",
    "        #now we will do the optimizer step\n",
    "        optimizer.step()\n",
    "        #now we will zero the gradients\n",
    "        optimizer.zero_grad()\n",
    "        #print the loss\n",
    "        print('Epoch: {} , Loss: {}'.format(epoch, loss.item()))\n",
    "\n",
    "        \n",
    "\n",
    "        #we will get the optical flow from the model\n",
    "#         #we will pass the images to the model\n",
    "#         #we will get the optical flow\n",
    "#         #send model to device\n",
    "#         model = model.to(device)\n",
    "#         flow = model(x1, x2)\n",
    "#         #we will get the loss\n",
    "#         #we will get the loss\n",
    "#         loss = get_loss(x1, x2, flow)\n",
    "#         #we will do the backward pass\n",
    "#         loss.backward()\n",
    "#         #we will do the optimizer step\n",
    "#         optimizer.step()\n",
    "#         #we will zero the gradients\n",
    "#         optimizer.zero_grad()\n",
    "#     #we will print the loss\n",
    "#     print('Epoch: {} , Loss: {}'.format(epoch, loss.item()))\n",
    "\n"
   ]
  },
  {
   "cell_type": "code",
   "execution_count": null,
   "metadata": {},
   "outputs": [],
   "source": [
    "#we write "
   ]
  },
  {
   "cell_type": "code",
   "execution_count": null,
   "metadata": {},
   "outputs": [],
   "source": [
    "# #print size of both the datasets\n",
    "# print('Size of dataset_frame0: ', len(dataset_frame0))\n",
    "# print('Size of dataset_frame1: ', len(dataset_frame1))\n",
    "# #dimension of the image\n",
    "# # print (type(dataset_frame0[0][0]) )\n",
    "\n",
    "# #iterate through the dataloader for one iter, use break: to print size of the image and plot the image\n",
    "# for x1 in dataloader_frame0:\n",
    "#     print('Size of x1: ', len(x1))\n",
    "#     #plot the image\n",
    "#     # plt.imshow(x1[0].permute(1, 2, 0))\n",
    "#     # plt.show()\n",
    "#     plt.imshow(x1[0][0])\n",
    "#     break\n",
    "#     #plot the image\n",
    "#     # plt.imshow(x1[0].permute(1, 2, 0))\n",
    "#     # plt.show()\n",
    "#     break\n",
    "\n"
   ]
  },
  {
   "cell_type": "code",
   "execution_count": null,
   "metadata": {},
   "outputs": [],
   "source": [
    "#check the ouput of the model, the shape and dimensions of the output\n",
    "# trash_output = model(x1, x2)\n",
    "#write a function to check the output of the model\n",
    "# def test_output():\n",
    "#     #load the two images PATH_TO_IMAGE_1 and PATH_TO_IMAGE_2\n",
    "#     #use the function read_image\n",
    "#     img1 = read_image(PATH_TO_IMAGE_1)\n",
    "#     img2 = read_image(PATH_TO_IMAGE_2)\n",
    "#     #convert the images to numpy array\n",
    "#     image_1_numpy = img1.astype(np.uint8)\n",
    "#     image_2_numpy = img2.astype(np.uint8)\n",
    "#     image_1 = torch.from_numpy(image_1_numpy).permute(2, 0, 1).unsqueeze(0)\n",
    "#     image_2 = torch.from_numpy(image_2_numpy).permute(2, 0, 1).unsqueeze(0)\n",
    "\n",
    "#     #print the shape of the images\n",
    "#     print('Shape of image_1: ', image_1.shape)\n",
    "#     print('Shape of image_2: ', image_2.shape)\n",
    "\n",
    "#     output1, output2 = model.estimate_flow_and_confidence_map(image_1, image_2)\n",
    "\n",
    "\n",
    "#     #print the shape of the output\n",
    "#     print('Shape of the output1: ', output1.shape)\n",
    "#     #print type of the output\n",
    "#     print('Type of the output: ', type(output1))\n",
    "\n",
    "#     #output2\n",
    "#     #print the shape of the output\n",
    "#     print('Shape of the output: ', output2.shape)\n",
    "\n",
    "# #call the function\n",
    "# test_output()\n",
    "\n"
   ]
  },
  {
   "cell_type": "code",
   "execution_count": null,
   "metadata": {},
   "outputs": [],
   "source": [
    "# #test the transform on path_to_image_1\n",
    "# transform_out = transform(PATH_TO_IMAGE_1)"
   ]
  },
  {
   "cell_type": "code",
   "execution_count": null,
   "metadata": {},
   "outputs": [],
   "source": [
    "# #print dimensions of the transformed image\n",
    "# print(transform_out.shape)\n"
   ]
  },
  {
   "cell_type": "code",
   "execution_count": null,
   "metadata": {},
   "outputs": [],
   "source": [
    "#now we will write the training loop"
   ]
  },
  {
   "cell_type": "code",
   "execution_count": null,
   "metadata": {},
   "outputs": [],
   "source": [
    "\n",
    "#loss function is variance + c * ((mean_old - mean_new) ** 2)\n",
    "#we will define the first part of variance\n",
    "#define variance loss function\n",
    "\n",
    "#we define variance part of loss\n",
    "#this loss function will take prediction of a batch of images and return the variance of the batch\n",
    "#it will calculate first the mean of the batch and then the variance as MSE between the mean and each prediction\n",
    "def variance_loss(pred):\n",
    "    #we calculate the mean of the batch\n",
    "    mean = torch.mean(pred, dim=0)\n",
    "    #we calculate the MSE between the mean and each prediction\n",
    "    loss = torch.mean((pred - mean) ** 2)\n",
    "    return loss"
   ]
  },
  {
   "cell_type": "code",
   "execution_count": null,
   "metadata": {},
   "outputs": [
    {
     "ename": "SyntaxError",
     "evalue": "invalid syntax (4004521054.py, line 17)",
     "output_type": "error",
     "traceback": [
      "\u001b[0;36m  Input \u001b[0;32mIn [34]\u001b[0;36m\u001b[0m\n\u001b[0;31m    loss =\u001b[0m\n\u001b[0m           ^\u001b[0m\n\u001b[0;31mSyntaxError\u001b[0m\u001b[0;31m:\u001b[0m invalid syntax\n"
     ]
    }
   ],
   "source": [
    "\n",
    "@torch.enable_grad()  # ensure grads in possible no grad context for testing\n",
    "def forward_and_adapt(x, model, optimizer):\n",
    "    \"\"\"Forward and adapt model on batch of data.\n",
    "\n",
    "    Measure entropy of the model prediction, take gradients, and update params.\n",
    "    \"\"\"\n",
    "    # forward\n",
    "    outputs = model(x)\n",
    "    #print dimensions of the output\n",
    "    print('output dimensions: ', outputs.shape)\n",
    "    ##calculate mean of the batch prediction\n",
    "    mean_batch = torch.mean(outputs)\n",
    "\n",
    "    #print dimensions of mean_batch \n",
    "    print('mean_batch shape: ', mean_batch.shape)\n",
    "    # adapt\n",
    "    loss = \n",
    "\n",
    "    ##\n",
    "    loss.backward()\n",
    "    optimizer.step()\n",
    "    optimizer.zero_grad()\n",
    "    return outputs"
   ]
  },
  {
   "cell_type": "code",
   "execution_count": null,
   "metadata": {},
   "outputs": [],
   "source": [
    "#let us define the TENT class\n",
    "\n",
    "\n",
    "class Tent(nn.Module):\n",
    "    \"\"\"Tent adapts a model by entropy minimization during testing.\n",
    "\n",
    "    Once tented, a model adapts itself by updating on every forward.\n",
    "    \"\"\"\n",
    "    def __init__(self, model, optimizer, epochs=1):\n",
    "        super().__init__()\n",
    "        self.model = model\n",
    "        self.optimizer = optimizer\n",
    "        self.epochs = epochs\n",
    "        assert epochs > 0, \"tent requires >= 1 step(s) to forward and update\"\n",
    "     \n",
    "\n",
    "    def forward(self, x):\n",
    "        \"\"\"Forward and update the model.\"\"\"\n",
    "\n",
    "        for _ in range(self.epochs):\n",
    "            outputs = forward_and_adapt(x, self.model, self.optimizer)\n",
    "\n",
    "        return outputs\n"
   ]
  },
  {
   "cell_type": "code",
   "execution_count": null,
   "metadata": {},
   "outputs": [],
   "source": [
    "# #check if there are batch normalization layers in the model\n",
    "# for m in model.modules():\n",
    "#     if isinstance(m, nn.BatchNorm2d):\n",
    "#         print(m)\n",
    "#         #inside loop\n",
    "#         print('inside loop')\n",
    "\n"
   ]
  },
  {
   "cell_type": "code",
   "execution_count": null,
   "metadata": {},
   "outputs": [],
   "source": [
    "# #check if there are batch normalization layers in the model\n",
    "# for m in model.modules():\n",
    "#     if isinstance(m, nn.BatchNorm2d):\n",
    "#         print(m)\n",
    "#         #inside loop\n",
    "#         print('inside loop')"
   ]
  },
  {
   "cell_type": "code",
   "execution_count": null,
   "metadata": {},
   "outputs": [],
   "source": []
  }
 ],
 "metadata": {
  "kernelspec": {
   "display_name": "pytorch",
   "language": "python",
   "name": "python3"
  },
  "language_info": {
   "codemirror_mode": {
    "name": "ipython",
    "version": 3
   },
   "file_extension": ".py",
   "mimetype": "text/x-python",
   "name": "python",
   "nbconvert_exporter": "python",
   "pygments_lexer": "ipython3",
   "version": "3.8.13"
  },
  "orig_nbformat": 4,
  "vscode": {
   "interpreter": {
    "hash": "079402cc50f681fca3bc4b588c8594ae5b0127c6215ec7c89d21fdfb87f97274"
   }
  }
 },
 "nbformat": 4,
 "nbformat_minor": 2
}
