{
 "cells": [
  {
   "cell_type": "code",
   "execution_count": 1,
   "metadata": {},
   "outputs": [],
   "source": [
    "#in this script we will write functions to create dataset in the format required by the tent.py script"
   ]
  },
  {
   "cell_type": "code",
   "execution_count": 2,
   "metadata": {},
   "outputs": [],
   "source": [
    "#we will manually write the dataset class and our transformations\n"
   ]
  },
  {
   "cell_type": "code",
   "execution_count": 3,
   "metadata": {},
   "outputs": [],
   "source": [
    "# #import model name and pretrained model name from script parameters.py\n",
    "# import parameters\n",
    "# #reload\n",
    "# import importlib\n",
    "# importlib.reload(parameters)\n",
    "# from parameters import  PRE_TRAINED_MODEL, CURRENT_MODEL, MODEL_NAME"
   ]
  },
  {
   "cell_type": "code",
   "execution_count": 4,
   "metadata": {},
   "outputs": [],
   "source": [
    "import random\n",
    "#seed for reproducibility\n",
    "random.seed(123)\n",
    "\n",
    "import importlib\n",
    "# import imp"
   ]
  },
  {
   "cell_type": "code",
   "execution_count": 5,
   "metadata": {},
   "outputs": [],
   "source": [
    "#import model name and pretrained model name from script parameters_new.py\n",
    "import parameters_new\n",
    "#reload\n",
    "\n",
    "importlib.reload(parameters_new)\n",
    "from parameters_new import MODEL_NAME, PRE_TRAINED_MODEL, CURRENT_MODEL"
   ]
  },
  {
   "cell_type": "code",
   "execution_count": 6,
   "metadata": {},
   "outputs": [
    {
     "name": "stdout",
     "output_type": "stream",
     "text": [
      "Did not load moviepy\n"
     ]
    }
   ],
   "source": [
    "#we will use pretrained optical flow model from the script: pre_trained_model_wrappers.py\n",
    "#we import the class: Args\n",
    "import pre_trained_model_wrapper_new\n",
    "#reload\n",
    "\n",
    "# importlib.reload(pre_trained_model_wrapper_new)\n",
    "# from pre_trained_model_wrapper_new import Args      #class storing arguments\n",
    "#we import functions: build_model ,display_results , return_both_flows , compare_optical_flow \n",
    "from pre_trained_model_wrapper_new import build_model, display_results, return_both_flows, compare_optical_flow, get_pretrained_model , get_optical_flow\n",
    "\n",
    "#class Args: is used to store arguments\n",
    "\n",
    "# build_model: is used to build the model  'PWCNet' on 'chairs_things_ft_sintel'\n",
    "# compare_optical_flow: is used to compare the optical flow of two images\n",
    "#get_pretrained_model: is used to get the pretrained model given model and dataset"
   ]
  },
  {
   "cell_type": "code",
   "execution_count": 7,
   "metadata": {},
   "outputs": [],
   "source": [
    "#we have functions to create dataset directory in script: augumentations.py\n",
    "#we import functions : create_augmented_sphere , create_augmented_corridor\n",
    "import augumentations\n",
    "\n",
    "importlib.reload(augumentations)\n",
    "# from augumentations import create_augmented_sphere, create_augmented_corridor \n",
    "from augumentations import create_augmented_corridor \n",
    "\n",
    "# imp.reload(create_augmented_sphere)"
   ]
  },
  {
   "cell_type": "code",
   "execution_count": 8,
   "metadata": {},
   "outputs": [
    {
     "name": "stdout",
     "output_type": "stream",
     "text": [
      "index 0 starting\n",
      "Model: PDCNet_plus\n",
      "Pre-trained-model: megadepth\n",
      "GOCor: Local iter 16\n",
      "GOCor: Global iter 3\n"
     ]
    },
    {
     "name": "stderr",
     "output_type": "stream",
     "text": [
      "/home/lisa/anaconda3/envs/pytorch/lib/python3.8/site-packages/torchvision/models/_utils.py:208: UserWarning: The parameter 'pretrained' is deprecated since 0.13 and will be removed in 0.15, please use 'weights' instead.\n",
      "  warnings.warn(\n",
      "/home/lisa/anaconda3/envs/pytorch/lib/python3.8/site-packages/torchvision/models/_utils.py:223: UserWarning: Arguments other than a weight enum or `None` for 'weights' are deprecated since 0.13 and will be removed in 0.15. The current behavior is equivalent to passing `weights=VGG16_Weights.IMAGENET1K_V1`. You can also use `weights=VGG16_Weights.DEFAULT` to get the most up-to-date weights.\n",
      "  warnings.warn(msg)\n"
     ]
    },
    {
     "name": "stdout",
     "output_type": "stream",
     "text": [
      "inside if condition estimate_uncertainty is  True args.flipping_condition is  False\n"
     ]
    },
    {
     "name": "stderr",
     "output_type": "stream",
     "text": [
      "/home/lisa/anaconda3/envs/pytorch/lib/python3.8/site-packages/cupy/cuda/compiler.py:461: UserWarning: cupy.cuda.compile_with_cache has been deprecated in CuPy v10, and will be removed in the future. Use cupy.RawModule or cupy.RawKernel instead.\n",
      "  warnings.warn(\n"
     ]
    },
    {
     "name": "stdout",
     "output_type": "stream",
     "text": [
      "index 1 starting\n",
      "Model: PDCNet_plus\n",
      "Pre-trained-model: megadepth\n",
      "GOCor: Local iter 16\n",
      "GOCor: Global iter 3\n",
      "inside if condition estimate_uncertainty is  True args.flipping_condition is  False\n",
      "index 2 starting\n",
      "Model: PDCNet_plus\n",
      "Pre-trained-model: megadepth\n",
      "GOCor: Local iter 16\n",
      "GOCor: Global iter 3\n",
      "inside if condition estimate_uncertainty is  True args.flipping_condition is  False\n",
      "index 3 starting\n",
      "Model: PDCNet_plus\n",
      "Pre-trained-model: megadepth\n",
      "GOCor: Local iter 16\n",
      "GOCor: Global iter 3\n",
      "inside if condition estimate_uncertainty is  True args.flipping_condition is  False\n",
      "index 4 starting\n",
      "Model: PDCNet_plus\n",
      "Pre-trained-model: megadepth\n",
      "GOCor: Local iter 16\n",
      "GOCor: Global iter 3\n",
      "inside if condition estimate_uncertainty is  True args.flipping_condition is  False\n",
      "index 5 starting\n",
      "Model: PDCNet_plus\n",
      "Pre-trained-model: megadepth\n",
      "GOCor: Local iter 16\n",
      "GOCor: Global iter 3\n",
      "inside if condition estimate_uncertainty is  True args.flipping_condition is  False\n",
      "index 6 starting\n",
      "Model: PDCNet_plus\n",
      "Pre-trained-model: megadepth\n",
      "GOCor: Local iter 16\n",
      "GOCor: Global iter 3\n",
      "inside if condition estimate_uncertainty is  True args.flipping_condition is  False\n",
      "index 7 starting\n",
      "Model: PDCNet_plus\n",
      "Pre-trained-model: megadepth\n",
      "GOCor: Local iter 16\n",
      "GOCor: Global iter 3\n",
      "inside if condition estimate_uncertainty is  True args.flipping_condition is  False\n",
      "index 8 starting\n",
      "Model: PDCNet_plus\n",
      "Pre-trained-model: megadepth\n",
      "GOCor: Local iter 16\n",
      "GOCor: Global iter 3\n",
      "inside if condition estimate_uncertainty is  True args.flipping_condition is  False\n"
     ]
    }
   ],
   "source": [
    "#now we call both functions to execute them\n",
    "# create_augmented_corridor takes the arguments: num_augumentations = 100, corridor_path = 'Assignment_datasets/corridor/' , save_dir = 'data/corridor/' , MODEL_NAME = CURRENT_MODEL,model = MODEL_NAME, pre_trained_model = PRE_TRAINED_MODEL\n",
    "create_augmented_corridor(num_augumentations=4)"
   ]
  },
  {
   "cell_type": "code",
   "execution_count": 9,
   "metadata": {},
   "outputs": [],
   "source": [
    "#now we will create for sphere dataset"
   ]
  },
  {
   "cell_type": "code",
   "execution_count": null,
   "metadata": {},
   "outputs": [],
   "source": []
  }
 ],
 "metadata": {
  "kernelspec": {
   "display_name": "pytorch",
   "language": "python",
   "name": "python3"
  },
  "language_info": {
   "codemirror_mode": {
    "name": "ipython",
    "version": 3
   },
   "file_extension": ".py",
   "mimetype": "text/x-python",
   "name": "python",
   "nbconvert_exporter": "python",
   "pygments_lexer": "ipython3",
   "version": "3.8.13"
  },
  "orig_nbformat": 4,
  "vscode": {
   "interpreter": {
    "hash": "079402cc50f681fca3bc4b588c8594ae5b0127c6215ec7c89d21fdfb87f97274"
   }
  }
 },
 "nbformat": 4,
 "nbformat_minor": 2
}
